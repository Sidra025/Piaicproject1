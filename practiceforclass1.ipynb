{
 "cells": [
  {
   "cell_type": "markdown",
   "metadata": {},
   "source": [
    "# Numpy"
   ]
  },
  {
   "cell_type": "code",
   "execution_count": 1,
   "metadata": {},
   "outputs": [
    {
     "data": {
      "text/plain": [
       "array([ 5, 10, 15, 20, 25, 30, 35, 40, 45, 50])"
      ]
     },
     "execution_count": 1,
     "metadata": {},
     "output_type": "execute_result"
    }
   ],
   "source": [
    "import numpy as np\n",
    "a= np.array([1,2,3,4,5,6,7,8,9,10])\n",
    "a*5"
   ]
  },
  {
   "cell_type": "code",
   "execution_count": 4,
   "metadata": {},
   "outputs": [
    {
     "data": {
      "text/plain": [
       "array([3., 5., 6.])"
      ]
     },
     "execution_count": 4,
     "metadata": {},
     "output_type": "execute_result"
    }
   ],
   "source": [
    "b = np.array([1.5,2.5,3])\n",
    "b*2"
   ]
  },
  {
   "cell_type": "code",
   "execution_count": 5,
   "metadata": {},
   "outputs": [
    {
     "data": {
      "text/plain": [
       "numpy.ndarray"
      ]
     },
     "execution_count": 5,
     "metadata": {},
     "output_type": "execute_result"
    }
   ],
   "source": [
    "type(a)"
   ]
  },
  {
   "cell_type": "code",
   "execution_count": 6,
   "metadata": {},
   "outputs": [
    {
     "data": {
      "text/plain": [
       "numpy.ndarray"
      ]
     },
     "execution_count": 6,
     "metadata": {},
     "output_type": "execute_result"
    }
   ],
   "source": [
    "type(b)"
   ]
  },
  {
   "cell_type": "code",
   "execution_count": 7,
   "metadata": {},
   "outputs": [
    {
     "data": {
      "text/plain": [
       "array([1., 2.], dtype=float32)"
      ]
     },
     "execution_count": 7,
     "metadata": {},
     "output_type": "execute_result"
    }
   ],
   "source": [
    "c = np.array([1,2], dtype = \"float32\")\n",
    "c"
   ]
  },
  {
   "cell_type": "code",
   "execution_count": 13,
   "metadata": {},
   "outputs": [
    {
     "data": {
      "text/plain": [
       "array([1, 2, 6], dtype=int8)"
      ]
     },
     "execution_count": 13,
     "metadata": {},
     "output_type": "execute_result"
    }
   ],
   "source": [
    "d = np.array([1.1,2.5,6.9], dtype = \"int8\")  #not flooring not ceiling\n",
    "d"
   ]
  },
  {
   "cell_type": "code",
   "execution_count": 14,
   "metadata": {},
   "outputs": [
    {
     "name": "stdout",
     "output_type": "stream",
     "text": [
      "<class 'numpy.ndarray'>\n"
     ]
    }
   ],
   "source": [
    "print (type(d))"
   ]
  },
  {
   "cell_type": "code",
   "execution_count": 15,
   "metadata": {},
   "outputs": [
    {
     "data": {
      "text/plain": [
       "numpy.ndarray"
      ]
     },
     "execution_count": 15,
     "metadata": {},
     "output_type": "execute_result"
    }
   ],
   "source": [
    "type(d)  #OR look down for mentioning dtype in quote n without quotes"
   ]
  },
  {
   "cell_type": "code",
   "execution_count": 16,
   "metadata": {},
   "outputs": [
    {
     "data": {
      "text/plain": [
       "array([1, 2, 6], dtype=int8)"
      ]
     },
     "execution_count": 16,
     "metadata": {},
     "output_type": "execute_result"
    }
   ],
   "source": [
    "e = np.array([1.1,2.5,6.9], dtype = np.int8)  #not flooring not ceiling\n",
    "e"
   ]
  },
  {
   "cell_type": "code",
   "execution_count": 17,
   "metadata": {},
   "outputs": [
    {
     "data": {
      "text/plain": [
       "numpy.ndarray"
      ]
     },
     "execution_count": 17,
     "metadata": {},
     "output_type": "execute_result"
    }
   ],
   "source": [
    "type(e)"
   ]
  },
  {
   "cell_type": "code",
   "execution_count": 27,
   "metadata": {},
   "outputs": [
    {
     "data": {
      "text/plain": [
       "array([0.97332176, 0.0600249 , 0.29276713])"
      ]
     },
     "execution_count": 27,
     "metadata": {},
     "output_type": "execute_result"
    }
   ],
   "source": [
    "# to create random numbers\n",
    "randomarray1 = np.random.rand(3)\n",
    "randomarray1"
   ]
  },
  {
   "cell_type": "code",
   "execution_count": 36,
   "metadata": {},
   "outputs": [
    {
     "name": "stdout",
     "output_type": "stream",
     "text": [
      "[0.86269731 0.58893429 0.6660942  0.24454413 0.10712988 0.22099194]\n",
      "[8.62697311 5.88934286 6.66094201 2.44544131 1.07129879 2.20991936]\n",
      "[10.86269731 10.58893429 10.6660942  10.24454413 10.10712988 10.22099194]\n",
      "[-9.13730269 -9.41106571 -9.3339058  -9.75545587 -9.89287012 -9.77900806]\n",
      "[0.43134866 0.29446714 0.3330471  0.12227207 0.05356494 0.11049597]\n",
      "[0.74424665 0.34684359 0.44368148 0.05980183 0.01147681 0.04883744]\n",
      "[0. 0. 0. 0. 0. 0.]\n"
     ]
    }
   ],
   "source": [
    "randomarray1 = np.random.rand(6) \n",
    "print(randomarray1)\n",
    "print(randomarray1 *10)\n",
    "print(randomarray1 +10)\n",
    "print(randomarray1 - 10)\n",
    "print(randomarray1 /2)\n",
    "print(randomarray1 **2)\n",
    "print(randomarray1 // 2)"
   ]
  },
  {
   "cell_type": "code",
   "execution_count": 41,
   "metadata": {},
   "outputs": [
    {
     "name": "stdout",
     "output_type": "stream",
     "text": [
      "[[0.72522076 0.81790041]\n",
      " [0.59787396 0.05756699]\n",
      " [0.14961437 0.93401208]]\n",
      "[[1.45044152 1.63580082]\n",
      " [1.19574791 0.11513397]\n",
      " [0.29922873 1.86802417]]\n",
      "<class 'numpy.ndarray'>\n"
     ]
    }
   ],
   "source": [
    "randomarray2 = np.random.rand(6).reshape(3,2)\n",
    "print(randomarray2)\n",
    "print(randomarray2 * 2)\n",
    "print(type(randomarray2))"
   ]
  },
  {
   "cell_type": "code",
   "execution_count": null,
   "metadata": {},
   "outputs": [],
   "source": [
    "# reshape create 2 dimentional array as double squares"
   ]
  },
  {
   "cell_type": "code",
   "execution_count": null,
   "metadata": {},
   "outputs": [],
   "source": [
    "# arange creates same as range in list"
   ]
  },
  {
   "cell_type": "code",
   "execution_count": null,
   "metadata": {},
   "outputs": [],
   "source": [
    "# reshape can apply on arange(4).rehape(2,2) and random.rand(4).reshape(2,2)"
   ]
  },
  {
   "cell_type": "code",
   "execution_count": 42,
   "metadata": {},
   "outputs": [
    {
     "name": "stdout",
     "output_type": "stream",
     "text": [
      "[0 1 2]\n",
      "[0 2 4]\n",
      "<class 'numpy.ndarray'>\n"
     ]
    }
   ],
   "source": [
    "# to generate range numbers\n",
    "randomarray3 = np.arange(3)\n",
    "print(randomarray3)\n",
    "print(randomarray3 *2)\n",
    "print(type(randomarray3))"
   ]
  },
  {
   "cell_type": "code",
   "execution_count": 21,
   "metadata": {},
   "outputs": [
    {
     "data": {
      "text/plain": [
       "array([[0, 1],\n",
       "       [2, 3],\n",
       "       [4, 5]])"
      ]
     },
     "execution_count": 21,
     "metadata": {},
     "output_type": "execute_result"
    }
   ],
   "source": [
    "randomarray = np.arange(6).reshape(3,2)\n",
    "randomarray"
   ]
  },
  {
   "cell_type": "code",
   "execution_count": 23,
   "metadata": {},
   "outputs": [
    {
     "name": "stdout",
     "output_type": "stream",
     "text": [
      "[ 2.   3.4  5.6 66. ]\n",
      "[[ 2.   3.4]\n",
      " [ 5.6 66. ]]\n"
     ]
    }
   ],
   "source": [
    "newrandomarray = np.array([2,3.4,5.6,66])\n",
    "print(newrandomarray)\n",
    "print(newrandomarray.reshape(2,2)) # reshape jiska lena ho apply array pe hoga not on list"
   ]
  },
  {
   "cell_type": "code",
   "execution_count": 24,
   "metadata": {},
   "outputs": [
    {
     "data": {
      "text/plain": [
       "array([[ 0,  1,  2],\n",
       "       [ 3,  4,  5],\n",
       "       [ 6,  7,  8],\n",
       "       [ 9, 10, 11]])"
      ]
     },
     "execution_count": 24,
     "metadata": {},
     "output_type": "execute_result"
    }
   ],
   "source": [
    "randomarray = np.arange(12).reshape(4,3) # 4 rows and 3 columns\n",
    "randomarray"
   ]
  },
  {
   "cell_type": "code",
   "execution_count": 44,
   "metadata": {},
   "outputs": [
    {
     "data": {
      "text/plain": [
       "1"
      ]
     },
     "execution_count": 44,
     "metadata": {},
     "output_type": "execute_result"
    }
   ],
   "source": [
    "# to check dimention of array\n",
    "newrandomarray.ndim"
   ]
  },
  {
   "cell_type": "code",
   "execution_count": 45,
   "metadata": {},
   "outputs": [
    {
     "data": {
      "text/plain": [
       "2"
      ]
     },
     "execution_count": 45,
     "metadata": {},
     "output_type": "execute_result"
    }
   ],
   "source": [
    "randomarray.ndim  #answer 2 = double square brackets"
   ]
  },
  {
   "cell_type": "markdown",
   "metadata": {},
   "source": [
    "# 2 Dimentional Array"
   ]
  },
  {
   "cell_type": "code",
   "execution_count": 46,
   "metadata": {},
   "outputs": [],
   "source": [
    "#array>> vector  (1D)\n",
    "#matrix>> tensor(Multi dimentional)"
   ]
  },
  {
   "cell_type": "code",
   "execution_count": 65,
   "metadata": {},
   "outputs": [
    {
     "name": "stdout",
     "output_type": "stream",
     "text": [
      "[[1 2 3]\n",
      " [4 5 6]\n",
      " [7 8 9]\n",
      " [2 3 4]]\n",
      "2\n",
      "(4, 3)\n",
      "<class 'numpy.ndarray'>\n",
      "[[1 2 3 4]\n",
      " [5 6 7 8]\n",
      " [9 2 3 4]]\n",
      "[[1 2]\n",
      " [2 4]]\n",
      "[[1. 2.]\n",
      " [2. 4.]]\n"
     ]
    }
   ],
   "source": [
    "# making tensor 2D = x and y axis\n",
    "twoD = np.array([[1,2,3],[4,5,6],[7,8,9],[2,3,4]])\n",
    "print(twoD)\n",
    "print(twoD.ndim)\n",
    "print(twoD.shape)\n",
    "print(type(twoD))\n",
    "print(twoD.reshape(3,4))\n",
    "print(np.array([[1,2],[2,4]]))\n",
    "print(np.array([[1,2],[2,4]],dtype=\"float32\"))"
   ]
  },
  {
   "cell_type": "code",
   "execution_count": 49,
   "metadata": {},
   "outputs": [
    {
     "data": {
      "text/plain": [
       "array([[4, 5, 6],\n",
       "       [7, 8, 9],\n",
       "       [2, 3, 4]])"
      ]
     },
     "execution_count": 49,
     "metadata": {},
     "output_type": "execute_result"
    }
   ],
   "source": [
    "twoD2 = np.array([[4,5,6],[7,8,9],[2,3,4]])\n",
    "twoD2"
   ]
  },
  {
   "cell_type": "code",
   "execution_count": 57,
   "metadata": {},
   "outputs": [
    {
     "data": {
      "text/plain": [
       "array([[4, 5, 6],\n",
       "       [7, 8, 9],\n",
       "       [2, 3, 4]])"
      ]
     },
     "execution_count": 57,
     "metadata": {},
     "output_type": "execute_result"
    }
   ],
   "source": [
    "twoD2.reshape(3,3)"
   ]
  },
  {
   "cell_type": "code",
   "execution_count": 59,
   "metadata": {},
   "outputs": [
    {
     "data": {
      "text/plain": [
       "array([[1, 2, 3, 4],\n",
       "       [5, 6, 7, 8],\n",
       "       [9, 2, 3, 4]])"
      ]
     },
     "execution_count": 59,
     "metadata": {},
     "output_type": "execute_result"
    }
   ],
   "source": [
    "twoD.reshape(3,4) # bcz it has 12 numbers make pair"
   ]
  },
  {
   "cell_type": "code",
   "execution_count": 60,
   "metadata": {},
   "outputs": [
    {
     "data": {
      "text/plain": [
       "array([[1, 2],\n",
       "       [3, 4],\n",
       "       [5, 6],\n",
       "       [7, 8],\n",
       "       [9, 2],\n",
       "       [3, 4]])"
      ]
     },
     "execution_count": 60,
     "metadata": {},
     "output_type": "execute_result"
    }
   ],
   "source": [
    "twoD.reshape(6,2) # 12 values"
   ]
  },
  {
   "cell_type": "markdown",
   "metadata": {},
   "source": [
    "# Below showing scalar,vector(1D),2D arrays etc\n"
   ]
  },
  {
   "cell_type": "code",
   "execution_count": 75,
   "metadata": {},
   "outputs": [
    {
     "name": "stdout",
     "output_type": "stream",
     "text": [
      "0\n"
     ]
    },
    {
     "data": {
      "text/plain": [
       "()"
      ]
     },
     "execution_count": 75,
     "metadata": {},
     "output_type": "execute_result"
    }
   ],
   "source": [
    "zeroD = np.array(100)\n",
    "print (zeroD.ndim)    #dimension is 0 \n",
    "zeroD.shape #() ki koi shape nhi, scalar ki koi shape nhi"
   ]
  },
  {
   "cell_type": "code",
   "execution_count": null,
   "metadata": {},
   "outputs": [],
   "source": []
  },
  {
   "cell_type": "code",
   "execution_count": 68,
   "metadata": {},
   "outputs": [
    {
     "name": "stdout",
     "output_type": "stream",
     "text": [
      "[99]\n",
      "1\n",
      "(1,)\n"
     ]
    }
   ],
   "source": [
    "miscD = np.array([99]) # 1 dimentional can b x or y;element is single\n",
    "print(miscD)\n",
    "print(miscD.ndim)\n",
    "print(miscD.shape) #comma means vector"
   ]
  },
  {
   "cell_type": "code",
   "execution_count": 69,
   "metadata": {},
   "outputs": [
    {
     "name": "stdout",
     "output_type": "stream",
     "text": [
      "[[99]]\n",
      "2\n",
      "(1, 1)\n"
     ]
    }
   ],
   "source": [
    "miscD2 = np.array([[99]]) # now its 2dimentional x and y axid means matrix; element is single \n",
    "print(miscD2)\n",
    "print(miscD2.ndim)\n",
    "print(miscD2.shape)"
   ]
  },
  {
   "cell_type": "code",
   "execution_count": 70,
   "metadata": {},
   "outputs": [
    {
     "name": "stdout",
     "output_type": "stream",
     "text": [
      "[[[99]]]\n",
      "3\n",
      "(1, 1, 1)\n"
     ]
    }
   ],
   "source": [
    "miscD3 = np.array([[[99]]]) # now its 3dimentional x and y and z axis means matrix; element is single \n",
    "print(miscD3)\n",
    "print(miscD3.ndim)\n",
    "print(miscD3.shape)"
   ]
  },
  {
   "cell_type": "code",
   "execution_count": 73,
   "metadata": {},
   "outputs": [
    {
     "name": "stdout",
     "output_type": "stream",
     "text": [
      "[[[[[99]]]]]\n",
      "5\n",
      "(1, 1, 1, 1, 1)\n"
     ]
    }
   ],
   "source": [
    "miscD5 = np.array([[[[[99]]]]]) # now its 5dimentional x and y and z and 1 more axis means matrix; element is single \n",
    "print(miscD5)\n",
    "print(miscD5.ndim)\n",
    "print(miscD5.shape)"
   ]
  },
  {
   "cell_type": "markdown",
   "metadata": {},
   "source": [
    "# arange then ravel \n"
   ]
  },
  {
   "cell_type": "code",
   "execution_count": 7,
   "metadata": {},
   "outputs": [
    {
     "data": {
      "text/plain": [
       "array([ 0,  1,  2,  3,  4,  5,  6,  7,  8,  9, 10, 11])"
      ]
     },
     "execution_count": 7,
     "metadata": {},
     "output_type": "execute_result"
    }
   ],
   "source": [
    "arrayarange = np.arange(12)\n",
    "arrayarange"
   ]
  },
  {
   "cell_type": "code",
   "execution_count": 9,
   "metadata": {},
   "outputs": [
    {
     "data": {
      "text/plain": [
       "array([[ 0,  1,  2],\n",
       "       [ 3,  4,  5],\n",
       "       [ 6,  7,  8],\n",
       "       [ 9, 10, 11]])"
      ]
     },
     "execution_count": 9,
     "metadata": {},
     "output_type": "execute_result"
    }
   ],
   "source": [
    "arrayarange.reshape(4,3)"
   ]
  },
  {
   "cell_type": "code",
   "execution_count": 16,
   "metadata": {},
   "outputs": [
    {
     "name": "stdout",
     "output_type": "stream",
     "text": [
      "[ 0  1  2  3  4  5  6  7  8  9 10 11]\n",
      "1\n",
      "(12,)\n"
     ]
    }
   ],
   "source": [
    "# now ravel means sedha krna\n",
    "arrayravel = np.ravel(arrayarange)\n",
    "print(arrayravel)\n",
    "print(arrayravel.ndim)\n",
    "print(arrayravel.shape)"
   ]
  },
  {
   "cell_type": "code",
   "execution_count": 15,
   "metadata": {},
   "outputs": [
    {
     "name": "stdout",
     "output_type": "stream",
     "text": [
      "[[ 0  1  2]\n",
      " [ 3  4  5]\n",
      " [ 6  7  8]\n",
      " [ 9 10 11]]\n",
      "2\n",
      "(4, 3)\n"
     ]
    }
   ],
   "source": [
    "newreshape = arrayravel.reshape(4,3)\n",
    "print(newreshape)\n",
    "print(newreshape.ndim)\n",
    "print(newreshape.shape)"
   ]
  },
  {
   "cell_type": "code",
   "execution_count": 13,
   "metadata": {},
   "outputs": [
    {
     "data": {
      "text/plain": [
       "array([[ 0,  1],\n",
       "       [ 2,  3],\n",
       "       [ 4,  5],\n",
       "       [ 6,  7],\n",
       "       [ 8,  9],\n",
       "       [10, 11]])"
      ]
     },
     "execution_count": 13,
     "metadata": {},
     "output_type": "execute_result"
    }
   ],
   "source": [
    "newreshape = arrayravel.reshape(6,2)\n",
    "newreshape"
   ]
  },
  {
   "cell_type": "code",
   "execution_count": null,
   "metadata": {},
   "outputs": [],
   "source": []
  },
  {
   "cell_type": "code",
   "execution_count": 25,
   "metadata": {},
   "outputs": [
    {
     "name": "stdout",
     "output_type": "stream",
     "text": [
      "[[ 0  1  2]\n",
      " [ 3  4  5]\n",
      " [ 6  7  8]\n",
      " [ 9 10 11]]\n",
      "2\n",
      "(4, 3)\n",
      "[ 0  1  2  3  4  5  6  7  8  9 10 11]\n",
      "[[[ 0  1  2]\n",
      "  [ 3  4  5]]\n",
      "\n",
      " [[ 6  7  8]\n",
      "  [ 9 10 11]]]\n",
      "3\n",
      "(2, 2, 3)\n",
      "[ 0  1  2  3  4  5  6  7  8  9 10 11]\n",
      "1\n",
      "(12,)\n",
      "[[ 0  1  2]\n",
      " [ 3  4  5]\n",
      " [ 6  7  8]\n",
      " [ 9 10 11]]\n",
      "2\n",
      "(4, 3)\n",
      "[[ 0  1]\n",
      " [ 2  3]\n",
      " [ 4  5]\n",
      " [ 6  7]\n",
      " [ 8  9]\n",
      " [10 11]]\n"
     ]
    }
   ],
   "source": [
    "twoD1 = np.arange(12).reshape(4,3)\n",
    "print(twoD1)\n",
    "print(twoD1.ndim)\n",
    "print(twoD1.shape)\n",
    "print(np.ravel(twoD1))\n",
    "threeD1 = twoD1.reshape(2,2,3)\n",
    "print(threeD1) # 3D array\n",
    "print(threeD1.ndim)\n",
    "print(threeD1.shape)\n",
    "threeDravel = np.ravel(threeD1)\n",
    "print(threeDravel)\n",
    "print(threeDravel.ndim)\n",
    "print(threeDravel.shape)\n",
    "new2D = threeDravel.reshape(4,3)\n",
    "print(new2D)\n",
    "print(new2D.ndim)\n",
    "print(new2D.shape)\n",
    "print(new2D.reshape(6,2))"
   ]
  },
  {
   "cell_type": "markdown",
   "metadata": {},
   "source": [
    "\n",
    "# Creating 3D array \n",
    "## 3D means 3 square brackets, 2D means 2 brackets"
   ]
  },
  {
   "cell_type": "code",
   "execution_count": 35,
   "metadata": {},
   "outputs": [
    {
     "name": "stdout",
     "output_type": "stream",
     "text": [
      "[[[ 1  2  3]\n",
      "  [ 4  5  6]\n",
      "  [ 7  8  9]]\n",
      "\n",
      " [[ 3 56  8]\n",
      "  [ 8  7  6]\n",
      "  [ 9  8  7]]]\n",
      "3\n",
      "(2, 3, 3)\n"
     ]
    }
   ],
   "source": [
    "threeD2 = np.array([[[1,2,3],\n",
    "                    [4,5,6],\n",
    "                    [7,8,9]],\n",
    "                   [[3,56,8],\n",
    "                    [8,7,6],\n",
    "                    [9,8,7]]])\n",
    "print(threeD2)#3 d k andar dou 2ds hen n wo 2ds k andar 1  dimensionsl thy\n",
    "print(threeD2.ndim)\n",
    "print(threeD2.shape) # means 18"
   ]
  },
  {
   "cell_type": "code",
   "execution_count": 38,
   "metadata": {},
   "outputs": [
    {
     "name": "stdout",
     "output_type": "stream",
     "text": [
      "[[ 1  2  3]\n",
      " [ 4  5  6]\n",
      " [ 7  8  9]\n",
      " [ 3 56  8]\n",
      " [ 8  7  6]\n",
      " [ 9  8  7]]\n",
      "[ 1  2  3  4  5  6  7  8  9  3 56  8  8  7  6  9  8  7]\n"
     ]
    }
   ],
   "source": [
    "twoDback = threeD2.reshape(6,3)\n",
    "print(twoDback)\n",
    "print(np.ravel(twoDback))"
   ]
  },
  {
   "cell_type": "code",
   "execution_count": null,
   "metadata": {},
   "outputs": [],
   "source": []
  },
  {
   "cell_type": "code",
   "execution_count": null,
   "metadata": {},
   "outputs": [],
   "source": []
  },
  {
   "cell_type": "code",
   "execution_count": null,
   "metadata": {},
   "outputs": [],
   "source": []
  },
  {
   "cell_type": "code",
   "execution_count": null,
   "metadata": {},
   "outputs": [],
   "source": []
  },
  {
   "cell_type": "code",
   "execution_count": 26,
   "metadata": {},
   "outputs": [
    {
     "data": {
      "text/plain": [
       "array([[ 0,  2,  4],\n",
       "       [ 6,  8, 10],\n",
       "       [12, 14, 16],\n",
       "       [18, 20, 22]])"
      ]
     },
     "execution_count": 26,
     "metadata": {},
     "output_type": "execute_result"
    }
   ],
   "source": [
    "twoD1 + twoD1"
   ]
  },
  {
   "cell_type": "code",
   "execution_count": 27,
   "metadata": {},
   "outputs": [
    {
     "data": {
      "text/plain": [
       "array([[0, 0, 0],\n",
       "       [0, 0, 0],\n",
       "       [0, 0, 0],\n",
       "       [0, 0, 0]])"
      ]
     },
     "execution_count": 27,
     "metadata": {},
     "output_type": "execute_result"
    }
   ],
   "source": [
    "twoD1 - twoD1"
   ]
  },
  {
   "cell_type": "code",
   "execution_count": 28,
   "metadata": {},
   "outputs": [
    {
     "name": "stderr",
     "output_type": "stream",
     "text": [
      "C:\\ProgramData\\Anaconda3\\lib\\site-packages\\ipykernel_launcher.py:1: RuntimeWarning: invalid value encountered in true_divide\n",
      "  \"\"\"Entry point for launching an IPython kernel.\n"
     ]
    },
    {
     "data": {
      "text/plain": [
       "array([[nan,  1.,  1.],\n",
       "       [ 1.,  1.,  1.],\n",
       "       [ 1.,  1.,  1.],\n",
       "       [ 1.,  1.,  1.]])"
      ]
     },
     "execution_count": 28,
     "metadata": {},
     "output_type": "execute_result"
    }
   ],
   "source": [
    "twoD1 / twoD1"
   ]
  },
  {
   "cell_type": "code",
   "execution_count": 29,
   "metadata": {},
   "outputs": [
    {
     "name": "stderr",
     "output_type": "stream",
     "text": [
      "C:\\ProgramData\\Anaconda3\\lib\\site-packages\\ipykernel_launcher.py:1: RuntimeWarning: divide by zero encountered in floor_divide\n",
      "  \"\"\"Entry point for launching an IPython kernel.\n"
     ]
    },
    {
     "data": {
      "text/plain": [
       "array([[0, 1, 1],\n",
       "       [1, 1, 1],\n",
       "       [1, 1, 1],\n",
       "       [1, 1, 1]], dtype=int32)"
      ]
     },
     "execution_count": 29,
     "metadata": {},
     "output_type": "execute_result"
    }
   ],
   "source": [
    "twoD1 // twoD1"
   ]
  },
  {
   "cell_type": "code",
   "execution_count": 31,
   "metadata": {},
   "outputs": [
    {
     "data": {
      "text/plain": [
       "array([[  0,   1,   4],\n",
       "       [  9,  16,  25],\n",
       "       [ 36,  49,  64],\n",
       "       [ 81, 100, 121]])"
      ]
     },
     "execution_count": 31,
     "metadata": {},
     "output_type": "execute_result"
    }
   ],
   "source": [
    "twoD1 * twoD1"
   ]
  },
  {
   "cell_type": "code",
   "execution_count": 32,
   "metadata": {},
   "outputs": [
    {
     "data": {
      "text/plain": [
       "array([[         1,          1,          4],\n",
       "       [        27,        256,       3125],\n",
       "       [     46656,     823543,   16777216],\n",
       "       [ 387420489, 1410065408, 1843829075]], dtype=int32)"
      ]
     },
     "execution_count": 32,
     "metadata": {},
     "output_type": "execute_result"
    }
   ],
   "source": [
    "twoD1 ** twoD1"
   ]
  },
  {
   "cell_type": "code",
   "execution_count": 52,
   "metadata": {},
   "outputs": [
    {
     "data": {
      "text/plain": [
       "array([[-1.45443735,  0.65484139,  4.06793497],\n",
       "       [ 3.56680494,  5.09085585,  3.96920617],\n",
       "       [ 6.12238992,  7.25578511,  8.65774725],\n",
       "       [ 8.44296138, 10.14523869, 11.91984337]])"
      ]
     },
     "execution_count": 52,
     "metadata": {},
     "output_type": "execute_result"
    }
   ],
   "source": [
    "m1 = np.arange(12).reshape(4,3)\n",
    "m2 = np.random.randn(12).reshape(4,3)\n",
    "m1 + m2"
   ]
  },
  {
   "cell_type": "code",
   "execution_count": 53,
   "metadata": {},
   "outputs": [
    {
     "ename": "ValueError",
     "evalue": "operands could not be broadcast together with shapes (4,3) (4,4) ",
     "output_type": "error",
     "traceback": [
      "\u001b[1;31m---------------------------------------------------------------------------\u001b[0m",
      "\u001b[1;31mValueError\u001b[0m                                Traceback (most recent call last)",
      "\u001b[1;32m<ipython-input-53-70af96d1ea4f>\u001b[0m in \u001b[0;36m<module>\u001b[1;34m\u001b[0m\n\u001b[0;32m      1\u001b[0m \u001b[0mm4\u001b[0m \u001b[1;33m=\u001b[0m \u001b[0mnp\u001b[0m\u001b[1;33m.\u001b[0m\u001b[0marange\u001b[0m\u001b[1;33m(\u001b[0m\u001b[1;36m12\u001b[0m\u001b[1;33m)\u001b[0m\u001b[1;33m.\u001b[0m\u001b[0mreshape\u001b[0m\u001b[1;33m(\u001b[0m\u001b[1;36m4\u001b[0m\u001b[1;33m,\u001b[0m\u001b[1;36m3\u001b[0m\u001b[1;33m)\u001b[0m\u001b[1;33m\u001b[0m\u001b[1;33m\u001b[0m\u001b[0m\n\u001b[0;32m      2\u001b[0m \u001b[0mm5\u001b[0m \u001b[1;33m=\u001b[0m \u001b[0mnp\u001b[0m\u001b[1;33m.\u001b[0m\u001b[0mrandom\u001b[0m\u001b[1;33m.\u001b[0m\u001b[0mrandn\u001b[0m\u001b[1;33m(\u001b[0m\u001b[1;36m16\u001b[0m\u001b[1;33m)\u001b[0m\u001b[1;33m.\u001b[0m\u001b[0mreshape\u001b[0m\u001b[1;33m(\u001b[0m\u001b[1;36m4\u001b[0m\u001b[1;33m,\u001b[0m\u001b[1;36m4\u001b[0m\u001b[1;33m)\u001b[0m\u001b[1;33m\u001b[0m\u001b[1;33m\u001b[0m\u001b[0m\n\u001b[1;32m----> 3\u001b[1;33m \u001b[0mm4\u001b[0m \u001b[1;33m+\u001b[0m \u001b[0mm5\u001b[0m \u001b[1;31m# error bcz addition etc k liye same shape is necessary\u001b[0m\u001b[1;33m\u001b[0m\u001b[1;33m\u001b[0m\u001b[0m\n\u001b[0m",
      "\u001b[1;31mValueError\u001b[0m: operands could not be broadcast together with shapes (4,3) (4,4) "
     ]
    }
   ],
   "source": [
    "m4 = np.arange(12).reshape(4,3)\n",
    "m5 = np.random.randn(16).reshape(4,4)\n",
    "m4 + m5 # error bcz addition etc k liye same shape is necessary"
   ]
  },
  {
   "cell_type": "code",
   "execution_count": 41,
   "metadata": {},
   "outputs": [],
   "source": [
    "#in multiplaction of matrix first row elements  equal to first coloumn elements 2x3 2x3 se nhji hnge multiply\n",
    "# order is shape"
   ]
  },
  {
   "cell_type": "code",
   "execution_count": 54,
   "metadata": {},
   "outputs": [
    {
     "name": "stdout",
     "output_type": "stream",
     "text": [
      "[[ 0  1  2  3  4  5]\n",
      " [ 6  7  8  9 10 11]\n",
      " [12 13 14 15 16 17]]\n",
      "(3, 6)\n",
      "(4, 3)\n"
     ]
    }
   ],
   "source": [
    "m3 = np.arange(18).reshape(3,6)\n",
    "print(m3)\n",
    "print(m3.shape)\n",
    "print(m1.shape) # rows of first  matrix= colums of other"
   ]
  },
  {
   "cell_type": "code",
   "execution_count": 44,
   "metadata": {},
   "outputs": [
    {
     "name": "stdout",
     "output_type": "stream",
     "text": [
      "[[ 30  33  36  39  42  45]\n",
      " [ 84  96 108 120 132 144]\n",
      " [138 159 180 201 222 243]\n",
      " [192 222 252 282 312 342]]\n"
     ]
    }
   ],
   "source": [
    "print(m1@m3) # for mirror multiplication need rows = col of other"
   ]
  },
  {
   "cell_type": "code",
   "execution_count": 45,
   "metadata": {},
   "outputs": [
    {
     "ename": "ValueError",
     "evalue": "operands could not be broadcast together with shapes (4,3) (3,6) ",
     "output_type": "error",
     "traceback": [
      "\u001b[1;31m---------------------------------------------------------------------------\u001b[0m",
      "\u001b[1;31mValueError\u001b[0m                                Traceback (most recent call last)",
      "\u001b[1;32m<ipython-input-45-8f9b6b6c7384>\u001b[0m in \u001b[0;36m<module>\u001b[1;34m\u001b[0m\n\u001b[1;32m----> 1\u001b[1;33m \u001b[0mprint\u001b[0m\u001b[1;33m(\u001b[0m\u001b[0mm1\u001b[0m\u001b[1;33m*\u001b[0m\u001b[0mm3\u001b[0m\u001b[1;33m)\u001b[0m\u001b[1;33m\u001b[0m\u001b[1;33m\u001b[0m\u001b[0m\n\u001b[0m",
      "\u001b[1;31mValueError\u001b[0m: operands could not be broadcast together with shapes (4,3) (3,6) "
     ]
    }
   ],
   "source": [
    "print(m1*m3) # for this matrix equal size"
   ]
  },
  {
   "cell_type": "code",
   "execution_count": 55,
   "metadata": {},
   "outputs": [
    {
     "data": {
      "text/plain": [
       "array([[-0.        , -0.34515861,  4.13586993],\n",
       "       [ 1.70041483,  4.36342341, -5.15396916],\n",
       "       [ 0.73433949,  1.79049575,  5.26197801],\n",
       "       [-5.01334757,  1.45238687, 10.11827703]])"
      ]
     },
     "execution_count": 55,
     "metadata": {},
     "output_type": "execute_result"
    }
   ],
   "source": [
    "print(m1 * m2)\n",
    "# shape of both is 4 x 3 same shape for multiplication index to index\n",
    "# mirror is 1st row 1st col like this\n",
    "# same shape pe @ krenge tu answer diff aega\n"
   ]
  },
  {
   "cell_type": "code",
   "execution_count": 60,
   "metadata": {},
   "outputs": [
    {
     "name": "stdout",
     "output_type": "stream",
     "text": [
      "[[0 1]\n",
      " [2 3]\n",
      " [4 5]]\n",
      "[[0 1]\n",
      " [2 3]\n",
      " [4 5]]\n",
      "[[ 0  1]\n",
      " [ 4  9]\n",
      " [16 25]]\n",
      "[[ 3  4  5]\n",
      " [ 9 14 19]\n",
      " [15 24 33]]\n"
     ]
    }
   ],
   "source": [
    "n1 = np.arange(6).reshape(3,2)\n",
    "n2 = np.arange(6).reshape(3,2)\n",
    "print(n1)\n",
    "print(n2)\n",
    "print(n1*n2)\n",
    "n3= n2.reshape(2,3)\n",
    "print(n1 @ n3)"
   ]
  },
  {
   "cell_type": "code",
   "execution_count": 62,
   "metadata": {},
   "outputs": [
    {
     "name": "stdout",
     "output_type": "stream",
     "text": [
      "[[ 3  4  5]\n",
      " [ 9 14 19]\n",
      " [15 24 33]]\n",
      "[[ 3  4  5]\n",
      " [ 9 14 19]\n",
      " [15 24 33]]\n"
     ]
    }
   ],
   "source": [
    "print(np.dot(n1,n3)) # other way of mirror multiplication\n",
    "print(n1.dot(n3)) "
   ]
  },
  {
   "cell_type": "code",
   "execution_count": null,
   "metadata": {},
   "outputs": [],
   "source": []
  },
  {
   "cell_type": "code",
   "execution_count": 65,
   "metadata": {},
   "outputs": [
    {
     "name": "stdout",
     "output_type": "stream",
     "text": [
      "[0. 0. 0. 0.]\n",
      "[0 0 0 0]\n",
      "1\n",
      "(4,)\n"
     ]
    }
   ],
   "source": [
    "#builtin matrix zero  1D\n",
    "zeroos = np.zeros(4)\n",
    "print(zeroos)\n",
    "print(np.zeros(4,dtype = \"int8\"))\n",
    "print(zeroos.ndim)\n",
    "print(zeroos.shape)"
   ]
  },
  {
   "cell_type": "code",
   "execution_count": 71,
   "metadata": {},
   "outputs": [
    {
     "name": "stdout",
     "output_type": "stream",
     "text": [
      "[[0 0 0]\n",
      " [0 0 0]\n",
      " [0 0 0]\n",
      " [0 0 0]]\n",
      "2\n",
      "(4, 3)\n",
      "[[0 0]\n",
      " [0 0]\n",
      " [0 0]\n",
      " [0 0]\n",
      " [0 0]\n",
      " [0 0]]\n"
     ]
    }
   ],
   "source": [
    "# 2D zero matrix\n",
    "twoDzero = np.zeros((4,3),dtype=\"int8\") # must give dtype in 2D otherwise not run\n",
    "print(twoDzero)\n",
    "print(twoDzero.ndim)\n",
    "print(twoDzero.shape)\n",
    "print(twoDzero.reshape(6,2))"
   ]
  },
  {
   "cell_type": "code",
   "execution_count": 77,
   "metadata": {},
   "outputs": [
    {
     "name": "stdout",
     "output_type": "stream",
     "text": [
      "[1. 1. 1. 1.]\n",
      "[[1 1 1 1 1]\n",
      " [1 1 1 1 1]\n",
      " [1 1 1 1 1]\n",
      " [1 1 1 1 1]]\n",
      "1\n",
      "2\n",
      "[[[1. 1. 1. 1.]\n",
      "  [1. 1. 1. 1.]\n",
      "  [1. 1. 1. 1.]]\n",
      "\n",
      " [[1. 1. 1. 1.]\n",
      "  [1. 1. 1. 1.]\n",
      "  [1. 1. 1. 1.]]\n",
      "\n",
      " [[1. 1. 1. 1.]\n",
      "  [1. 1. 1. 1.]\n",
      "  [1. 1. 1. 1.]]]\n",
      "3\n",
      "[[[2. 2. 2. 2.]\n",
      "  [2. 2. 2. 2.]\n",
      "  [2. 2. 2. 2.]]\n",
      "\n",
      " [[2. 2. 2. 2.]\n",
      "  [2. 2. 2. 2.]\n",
      "  [2. 2. 2. 2.]]\n",
      "\n",
      " [[2. 2. 2. 2.]\n",
      "  [2. 2. 2. 2.]\n",
      "  [2. 2. 2. 2.]]]\n"
     ]
    }
   ],
   "source": [
    "#creating 1 D 2 D 3 D matriz of ones\n",
    "oneDone = np.ones(4)\n",
    "print(oneDone)\n",
    "twoDones = np.ones((4,5),dtype =\"int8\") # tuple he 4 5 \n",
    "print(twoDones)\n",
    "print(oneDone.ndim)\n",
    "print(twoDones.ndim)\n",
    "threeDones = np.ones((3,3,4),dtype = \"float32\")\n",
    "print(threeDones)\n",
    "print(threeDones.ndim)\n",
    "print(threeDones *2)"
   ]
  },
  {
   "cell_type": "code",
   "execution_count": 82,
   "metadata": {},
   "outputs": [
    {
     "name": "stdout",
     "output_type": "stream",
     "text": [
      "[50 50 50 50]\n",
      "[[50 50 50]\n",
      " [50 50 50]\n",
      " [50 50 50]]\n",
      "[[[50 50 50]\n",
      "  [50 50 50]\n",
      "  [50 50 50]]\n",
      "\n",
      " [[50 50 50]\n",
      "  [50 50 50]\n",
      "  [50 50 50]]\n",
      "\n",
      " [[50 50 50]\n",
      "  [50 50 50]\n",
      "  [50 50 50]]]\n",
      "[[100 100 100]\n",
      " [100 100 100]\n",
      " [100 100 100]]\n"
     ]
    }
   ],
   "source": [
    "# creating full of the given number in 1 D 2D and 3D array\n",
    "oneDfull = np.full(4,50)  #other way kis se full kra he \n",
    "print(oneDfull)\n",
    "twoDfull = np.full((3,3),50)\n",
    "print(twoDfull)\n",
    "threeDfull = np.full((3,3,3),50)\n",
    "print(threeDfull)\n",
    "print(twoDfull*2)"
   ]
  },
  {
   "cell_type": "code",
   "execution_count": 87,
   "metadata": {},
   "outputs": [
    {
     "name": "stdout",
     "output_type": "stream",
     "text": [
      "[1.0609979e-312 1.0609979e-312]\n",
      "[[0 0]\n",
      " [0 0]]\n",
      "[[[0. 0.]\n",
      "  [0. 0.]]\n",
      "\n",
      " [[0. 0.]\n",
      "  [0. 0.]]]\n",
      "[[[[-0.4637675  -0.3077015 ]\n",
      "   [-0.37730758 -0.92496697]]\n",
      "\n",
      "  [[-0.01230615  0.7877795 ]\n",
      "   [ 1.5481059  -0.13274204]]]\n",
      "\n",
      "\n",
      " [[[ 1.36829285 -1.59731338]\n",
      "   [ 0.07365215 -1.50495364]]\n",
      "\n",
      "  [[ 0.64683316 -0.53858111]\n",
      "   [ 0.30888765 -0.61745263]]]]\n"
     ]
    }
   ],
   "source": [
    "# empty create zeros but bcz of garbage value(no refreence )showing this data\n",
    "oneDempty = np.empty(2)\n",
    "print(oneDempty)\n",
    "twoDempty = np.empty((2,2),dtype=\"int8\") # in 2D must define data type\n",
    "print(twoDempty)\n",
    "threeDempty = np.empty((2,2,2))\n",
    "print(threeDempty) # empty create zero but bcz of garbage value(no reference)show those also\n",
    "fourDempty = np.empty((2,2,2,2))\n",
    "print(fourDempty)"
   ]
  },
  {
   "cell_type": "code",
   "execution_count": 94,
   "metadata": {},
   "outputs": [
    {
     "name": "stdout",
     "output_type": "stream",
     "text": [
      "[[ 0  1  2  3  4  5]\n",
      " [ 6  7  8  9 10 11]\n",
      " [12 13 14 15 16 17]]\n",
      "[[0 0 0 0 0 0]\n",
      " [0 0 0 0 0 0]\n",
      " [0 0 0 0 0 0]]\n",
      "[[1 1 1 1 1 1]\n",
      " [1 1 1 1 1 1]\n",
      " [1 1 1 1 1 1]]\n"
     ]
    }
   ],
   "source": [
    "#zeros like measn creates zeros but shape and data type uthatega m3 ki \n",
    "print(m3)\n",
    "likezero = np.zeros_like(m3)\n",
    "print(likezero)\n",
    "likeones = np.ones_like(m3)\n",
    "print(likeones)\n"
   ]
  },
  {
   "cell_type": "code",
   "execution_count": 106,
   "metadata": {},
   "outputs": [
    {
     "name": "stdout",
     "output_type": "stream",
     "text": [
      "[[1. 0. 0. 0.]\n",
      " [0. 1. 0. 0.]\n",
      " [0. 0. 1. 0.]\n",
      " [0. 0. 0. 1.]]\n",
      "[[1. 0.]\n",
      " [0. 1.]\n",
      " [0. 0.]\n",
      " [0. 0.]]\n",
      "[[0. 0. 0.]\n",
      " [0. 0. 0.]\n",
      " [0. 0. 0.]]\n"
     ]
    }
   ],
   "source": [
    "#identity works on 2D\n",
    "i1 = np.eye(4) #idenetity diagnol 1 n determinant ans is 1 # 4 means 4 by 4 matriz\n",
    "i2 = np.eye(4,2)\n",
    "i3 = np.eye(3,3,3) # 3 by 3 matriz but showing zeros not 1 in diagnol.note\n",
    "print(i1)\n",
    "print(i2)\n",
    "print(i3)\n"
   ]
  },
  {
   "cell_type": "code",
   "execution_count": 112,
   "metadata": {},
   "outputs": [
    {
     "name": "stdout",
     "output_type": "stream",
     "text": [
      "[[1 0]\n",
      " [0 1]\n",
      " [0 0]\n",
      " [0 0]]\n"
     ]
    }
   ],
   "source": [
    "# change data type of matriz\n",
    "changedatatype = i2.astype(\"int8\")\n",
    "print(changedatatype)"
   ]
  },
  {
   "cell_type": "code",
   "execution_count": 115,
   "metadata": {},
   "outputs": [
    {
     "name": "stdout",
     "output_type": "stream",
     "text": [
      "[[False False]\n",
      " [False False]\n",
      " [False False]\n",
      " [False False]]\n"
     ]
    }
   ],
   "source": [
    "print(changedatatype>i2)  # should be same shape"
   ]
  },
  {
   "cell_type": "markdown",
   "metadata": {},
   "source": [
    "# Basic Indexing and Slicing"
   ]
  },
  {
   "cell_type": "code",
   "execution_count": 117,
   "metadata": {},
   "outputs": [
    {
     "name": "stdout",
     "output_type": "stream",
     "text": [
      "99\n",
      "<class 'list'>\n",
      "<class 'int'>\n",
      "<class 'list'>\n"
     ]
    }
   ],
   "source": [
    "alist = [99,77,55,33,11]\n",
    "print(alist[0])\n",
    "print(type(alist))\n",
    "print(type(alist[0]))\n",
    "print(type(alist[0:3]))\n"
   ]
  },
  {
   "cell_type": "code",
   "execution_count": 119,
   "metadata": {},
   "outputs": [],
   "source": [
    "#indexing se value ati he jo data type apne di hogi jo k int he \n",
    "#in slicing return jid data type ka slice woi hoga mtlb list se list niklega\n",
    "#pizza ka slice pizza he but pizza mei mushroom pizza nhi he"
   ]
  },
  {
   "cell_type": "code",
   "execution_count": 138,
   "metadata": {},
   "outputs": [
    {
     "name": "stdout",
     "output_type": "stream",
     "text": [
      "[[ 0  1  2  3  4  5]\n",
      " [ 6  7  8  9 10 11]\n",
      " [12 13 14 15 16 17]\n",
      " [18 19 20 21 22 23]\n",
      " [24 25 26 27 28 29]\n",
      " [30 31 32 33 34 35]]\n",
      "20\n",
      "[[13 14 15]\n",
      " [19 20 21]\n",
      " [25 26 27]]\n",
      "33\n",
      "[[33]]\n",
      "[[ 8  9 10]]\n",
      "[[13 14]\n",
      " [19 20]]\n",
      "[[ 7  9 11]\n",
      " [19 21 23]\n",
      " [31 33 35]]\n",
      "[[ 0  2  4]\n",
      " [12 14 16]\n",
      " [24 26 28]]\n",
      "[[35 33 31]\n",
      " [23 21 19]\n",
      " [11  9  7]]\n",
      "[[ 5  3  1]\n",
      " [17 15 13]\n",
      " [29 27 25]]\n",
      "[ 0  6 12 18 24 30]\n",
      "[[ 0]\n",
      " [ 6]\n",
      " [12]\n",
      " [18]\n",
      " [24]\n",
      " [30]]\n"
     ]
    }
   ],
   "source": [
    "tdarray = np.arange(36).reshape(6,6)\n",
    "print(tdarray)\n",
    "\n",
    "# now get 20 number which is 4th row and 3rd col but indexing starts with 0 always remember in slicing\n",
    "print(tdarray[3,2])\n",
    "\n",
    "#slicing 13 14 15 19 20 21 26 27 28 (3x3 matrix)\n",
    "#tdarray[row,colomn]\n",
    "#tdarray[start:end, start:end]\n",
    "print(tdarray[2:5, 1:4]) # end at 5 means included 4. 5 not included\n",
    "\n",
    "#33 find using indexing - show u 1D \n",
    "print(tdarray[5,3])\n",
    "\n",
    "# 33 find using slicing - show u 2D\n",
    "print(tdarray[5:,3:4]) \n",
    "\n",
    "#\n",
    "print(tdarray[1:2,2:5])\n",
    "\n",
    "print(tdarray[2:4,1:3])\n",
    "\n",
    "print(tdarray[1:6:2,1:6:2])\n",
    "print(tdarray[::2,::2])\n",
    "print(tdarray[::-2,::-2])\n",
    "print(tdarray[::2,::-2])\n",
    "print(tdarray[0:6,0])  #showing 1D\n",
    "print(tdarray[0:6,0:1]) # showing 2D"
   ]
  },
  {
   "cell_type": "code",
   "execution_count": 4,
   "metadata": {},
   "outputs": [
    {
     "data": {
      "text/plain": [
       "array([[[ 0,  1],\n",
       "        [ 2,  3],\n",
       "        [ 4,  5]],\n",
       "\n",
       "       [[ 6,  7],\n",
       "        [ 8,  9],\n",
       "        [10, 11]]])"
      ]
     },
     "execution_count": 4,
     "metadata": {},
     "output_type": "execute_result"
    }
   ],
   "source": [
    "arrw = np.arange(12).reshape(2,3,2)\n",
    "arrw\n"
   ]
  },
  {
   "cell_type": "code",
   "execution_count": 5,
   "metadata": {},
   "outputs": [
    {
     "data": {
      "text/plain": [
       "array([ 0,  1,  2,  3,  4,  5,  6,  7,  8,  9, 10, 11])"
      ]
     },
     "execution_count": 5,
     "metadata": {},
     "output_type": "execute_result"
    }
   ],
   "source": [
    "flat=arrw.flatten()\n",
    "flat"
   ]
  },
  {
   "cell_type": "code",
   "execution_count": 6,
   "metadata": {},
   "outputs": [
    {
     "data": {
      "text/plain": [
       "array([[[ 0,  1],\n",
       "        [ 2,  3],\n",
       "        [ 4,  5]],\n",
       "\n",
       "       [[ 6,  7],\n",
       "        [ 8,  9],\n",
       "        [10, 11]]])"
      ]
     },
     "execution_count": 6,
     "metadata": {},
     "output_type": "execute_result"
    }
   ],
   "source": [
    "arrw"
   ]
  },
  {
   "cell_type": "code",
   "execution_count": 7,
   "metadata": {},
   "outputs": [
    {
     "data": {
      "text/plain": [
       "array([ 0,  1,  2,  3,  4,  5,  6,  7,  8,  9, 10, 11])"
      ]
     },
     "execution_count": 7,
     "metadata": {},
     "output_type": "execute_result"
    }
   ],
   "source": [
    "ravel = arrw.ravel()\n",
    "ravel"
   ]
  },
  {
   "cell_type": "code",
   "execution_count": 8,
   "metadata": {},
   "outputs": [],
   "source": [
    "ravel[3:6]=1000  # 3 till 5 value will be 1000"
   ]
  },
  {
   "cell_type": "code",
   "execution_count": 9,
   "metadata": {},
   "outputs": [
    {
     "data": {
      "text/plain": [
       "array([   0,    1,    2, 1000, 1000, 1000,    6,    7,    8,    9,   10,\n",
       "         11])"
      ]
     },
     "execution_count": 9,
     "metadata": {},
     "output_type": "execute_result"
    }
   ],
   "source": [
    "ravel"
   ]
  },
  {
   "cell_type": "code",
   "execution_count": 8,
   "metadata": {},
   "outputs": [
    {
     "data": {
      "text/plain": [
       "array([  0,   1,   2, 444, 444,   5,   6,   7,   8,   9,  10,  11])"
      ]
     },
     "execution_count": 8,
     "metadata": {},
     "output_type": "execute_result"
    }
   ],
   "source": [
    "flat[3:5]=444\n",
    "flat"
   ]
  },
  {
   "cell_type": "code",
   "execution_count": 9,
   "metadata": {},
   "outputs": [
    {
     "data": {
      "text/plain": [
       "array([[[ 0,  1],\n",
       "        [ 2,  3],\n",
       "        [ 4,  5]],\n",
       "\n",
       "       [[ 6,  7],\n",
       "        [ 8,  9],\n",
       "        [10, 11]]])"
      ]
     },
     "execution_count": 9,
     "metadata": {},
     "output_type": "execute_result"
    }
   ],
   "source": [
    "arrw"
   ]
  },
  {
   "cell_type": "code",
   "execution_count": 10,
   "metadata": {},
   "outputs": [
    {
     "data": {
      "text/plain": [
       "array([[1, 2, 3],\n",
       "       [4, 5, 6]])"
      ]
     },
     "execution_count": 10,
     "metadata": {},
     "output_type": "execute_result"
    }
   ],
   "source": [
    "arr1w = np.array([[1, 2, 3], [4, 5, 6]])\n",
    "arr1w"
   ]
  },
  {
   "cell_type": "code",
   "execution_count": 11,
   "metadata": {},
   "outputs": [
    {
     "data": {
      "text/plain": [
       "array([[ 7,  8,  9],\n",
       "       [10, 11, 12]])"
      ]
     },
     "execution_count": 11,
     "metadata": {},
     "output_type": "execute_result"
    }
   ],
   "source": [
    "arr2w = np.array([[7, 8, 9], [10, 11, 12]])\n",
    "arr2w"
   ]
  },
  {
   "cell_type": "code",
   "execution_count": 12,
   "metadata": {},
   "outputs": [
    {
     "data": {
      "text/plain": [
       "array([[ 1,  2,  3],\n",
       "       [ 4,  5,  6],\n",
       "       [ 7,  8,  9],\n",
       "       [10, 11, 12]])"
      ]
     },
     "execution_count": 12,
     "metadata": {},
     "output_type": "execute_result"
    }
   ],
   "source": [
    "np.concatenate([arr1w,arr2w])"
   ]
  },
  {
   "cell_type": "code",
   "execution_count": 14,
   "metadata": {},
   "outputs": [
    {
     "data": {
      "text/plain": [
       "array([[ 1,  2,  3],\n",
       "       [ 4,  5,  6],\n",
       "       [ 7,  8,  9],\n",
       "       [10, 11, 12]])"
      ]
     },
     "execution_count": 14,
     "metadata": {},
     "output_type": "execute_result"
    }
   ],
   "source": [
    "np.concatenate([arr1w,arr2w],axis=0)"
   ]
  },
  {
   "cell_type": "code",
   "execution_count": 15,
   "metadata": {},
   "outputs": [
    {
     "data": {
      "text/plain": [
       "array([[ 1,  2,  3,  7,  8,  9],\n",
       "       [ 4,  5,  6, 10, 11, 12]])"
      ]
     },
     "execution_count": 15,
     "metadata": {},
     "output_type": "execute_result"
    }
   ],
   "source": [
    "np.concatenate([arr1w,arr2w],axis=1)"
   ]
  },
  {
   "cell_type": "code",
   "execution_count": 16,
   "metadata": {},
   "outputs": [
    {
     "data": {
      "text/plain": [
       "array([[ 1,  2,  3],\n",
       "       [ 4,  5,  6],\n",
       "       [ 7,  8,  9],\n",
       "       [10, 11, 12]])"
      ]
     },
     "execution_count": 16,
     "metadata": {},
     "output_type": "execute_result"
    }
   ],
   "source": [
    "np.vstack([arr1w,arr2w])  #vstack or axis 0 or concatenate "
   ]
  },
  {
   "cell_type": "code",
   "execution_count": 18,
   "metadata": {},
   "outputs": [
    {
     "data": {
      "text/plain": [
       "array([[ 1,  2,  3,  7,  8,  9],\n",
       "       [ 4,  5,  6, 10, 11, 12]])"
      ]
     },
     "execution_count": 18,
     "metadata": {},
     "output_type": "execute_result"
    }
   ],
   "source": [
    "np.hstack([arr1w,arr2w])"
   ]
  },
  {
   "cell_type": "code",
   "execution_count": 5,
   "metadata": {},
   "outputs": [
    {
     "data": {
      "text/plain": [
       "array([[ 0,  1,  2,  3,  4,  5],\n",
       "       [ 6,  7,  8,  9, 10, 11],\n",
       "       [12, 13, 14, 15, 16, 17],\n",
       "       [18, 19, 20, 21, 22, 23],\n",
       "       [24, 25, 26, 27, 28, 29],\n",
       "       [30, 31, 32, 33, 34, 35]])"
      ]
     },
     "execution_count": 5,
     "metadata": {},
     "output_type": "execute_result"
    }
   ],
   "source": [
    "sp = np.arange(36).reshape(6,6)\n",
    "sp"
   ]
  },
  {
   "cell_type": "code",
   "execution_count": 20,
   "metadata": {},
   "outputs": [
    {
     "data": {
      "text/plain": [
       "[array([[ 0,  1,  2,  3,  4,  5],\n",
       "        [ 6,  7,  8,  9, 10, 11]]), array([[12, 13, 14, 15, 16, 17],\n",
       "        [18, 19, 20, 21, 22, 23]]), array([[24, 25, 26, 27, 28, 29],\n",
       "        [30, 31, 32, 33, 34, 35]])]"
      ]
     },
     "execution_count": 20,
     "metadata": {},
     "output_type": "execute_result"
    }
   ],
   "source": [
    "np.vsplit(sp,3)"
   ]
  },
  {
   "cell_type": "code",
   "execution_count": 22,
   "metadata": {},
   "outputs": [
    {
     "data": {
      "text/plain": [
       "[array([[ 0,  1,  2,  3,  4,  5],\n",
       "        [ 6,  7,  8,  9, 10, 11],\n",
       "        [12, 13, 14, 15, 16, 17],\n",
       "        [18, 19, 20, 21, 22, 23],\n",
       "        [24, 25, 26, 27, 28, 29],\n",
       "        [30, 31, 32, 33, 34, 35]])]"
      ]
     },
     "execution_count": 22,
     "metadata": {},
     "output_type": "execute_result"
    }
   ],
   "source": [
    "np.vsplit(sp,1)"
   ]
  },
  {
   "cell_type": "code",
   "execution_count": 24,
   "metadata": {},
   "outputs": [
    {
     "data": {
      "text/plain": [
       "[array([[ 0,  1,  2,  3,  4,  5],\n",
       "        [ 6,  7,  8,  9, 10, 11],\n",
       "        [12, 13, 14, 15, 16, 17]]), array([[18, 19, 20, 21, 22, 23],\n",
       "        [24, 25, 26, 27, 28, 29],\n",
       "        [30, 31, 32, 33, 34, 35]])]"
      ]
     },
     "execution_count": 24,
     "metadata": {},
     "output_type": "execute_result"
    }
   ],
   "source": [
    "np.vsplit(sp,2)"
   ]
  },
  {
   "cell_type": "code",
   "execution_count": 27,
   "metadata": {},
   "outputs": [
    {
     "data": {
      "text/plain": [
       "[array([[ 0,  1],\n",
       "        [ 6,  7],\n",
       "        [12, 13],\n",
       "        [18, 19],\n",
       "        [24, 25],\n",
       "        [30, 31]]), array([[ 2,  3],\n",
       "        [ 8,  9],\n",
       "        [14, 15],\n",
       "        [20, 21],\n",
       "        [26, 27],\n",
       "        [32, 33]]), array([[ 4,  5],\n",
       "        [10, 11],\n",
       "        [16, 17],\n",
       "        [22, 23],\n",
       "        [28, 29],\n",
       "        [34, 35]])]"
      ]
     },
     "execution_count": 27,
     "metadata": {},
     "output_type": "execute_result"
    }
   ],
   "source": [
    "np.hsplit(sp,3)"
   ]
  },
  {
   "cell_type": "code",
   "execution_count": 28,
   "metadata": {},
   "outputs": [
    {
     "data": {
      "text/plain": [
       "[array([[ 0,  1,  2],\n",
       "        [ 6,  7,  8],\n",
       "        [12, 13, 14],\n",
       "        [18, 19, 20],\n",
       "        [24, 25, 26],\n",
       "        [30, 31, 32]]), array([[ 3,  4,  5],\n",
       "        [ 9, 10, 11],\n",
       "        [15, 16, 17],\n",
       "        [21, 22, 23],\n",
       "        [27, 28, 29],\n",
       "        [33, 34, 35]])]"
      ]
     },
     "execution_count": 28,
     "metadata": {},
     "output_type": "execute_result"
    }
   ],
   "source": [
    "np.hsplit(sp,2) #Split an array into multiple sub-arrays horizontally (column-wise).\n",
    "#Please refer to the split documentation. hsplit is equivalent to split with axis=1,\n",
    "#the array is always split along the second axis regardless of the array dimension.\n"
   ]
  },
  {
   "cell_type": "code",
   "execution_count": 29,
   "metadata": {},
   "outputs": [
    {
     "data": {
      "text/plain": [
       "[array([[ 0,  1,  2,  3,  4,  5],\n",
       "        [ 6,  7,  8,  9, 10, 11],\n",
       "        [12, 13, 14, 15, 16, 17],\n",
       "        [18, 19, 20, 21, 22, 23],\n",
       "        [24, 25, 26, 27, 28, 29],\n",
       "        [30, 31, 32, 33, 34, 35]])]"
      ]
     },
     "execution_count": 29,
     "metadata": {},
     "output_type": "execute_result"
    }
   ],
   "source": [
    "np.hsplit(sp,1)"
   ]
  },
  {
   "cell_type": "code",
   "execution_count": 7,
   "metadata": {},
   "outputs": [
    {
     "data": {
      "text/plain": [
       "[array([[ 0,  1,  2],\n",
       "        [ 6,  7,  8],\n",
       "        [12, 13, 14],\n",
       "        [18, 19, 20],\n",
       "        [24, 25, 26],\n",
       "        [30, 31, 32]]), array([[ 3,  4,  5],\n",
       "        [ 9, 10, 11],\n",
       "        [15, 16, 17],\n",
       "        [21, 22, 23],\n",
       "        [27, 28, 29],\n",
       "        [33, 34, 35]])]"
      ]
     },
     "execution_count": 7,
     "metadata": {},
     "output_type": "execute_result"
    }
   ],
   "source": [
    "np.split(sp,2,axis=1) #hsplit"
   ]
  },
  {
   "cell_type": "code",
   "execution_count": 8,
   "metadata": {},
   "outputs": [
    {
     "data": {
      "text/plain": [
       "[array([[ 0,  1,  2,  3,  4,  5],\n",
       "        [ 6,  7,  8,  9, 10, 11],\n",
       "        [12, 13, 14, 15, 16, 17]]), array([[18, 19, 20, 21, 22, 23],\n",
       "        [24, 25, 26, 27, 28, 29],\n",
       "        [30, 31, 32, 33, 34, 35]])]"
      ]
     },
     "execution_count": 8,
     "metadata": {},
     "output_type": "execute_result"
    }
   ],
   "source": [
    "np.split(sp,2)"
   ]
  },
  {
   "cell_type": "code",
   "execution_count": 9,
   "metadata": {},
   "outputs": [
    {
     "data": {
      "text/plain": [
       "[array([[ 0,  1,  2],\n",
       "        [ 6,  7,  8],\n",
       "        [12, 13, 14],\n",
       "        [18, 19, 20],\n",
       "        [24, 25, 26],\n",
       "        [30, 31, 32]]), array([[ 3,  4,  5],\n",
       "        [ 9, 10, 11],\n",
       "        [15, 16, 17],\n",
       "        [21, 22, 23],\n",
       "        [27, 28, 29],\n",
       "        [33, 34, 35]])]"
      ]
     },
     "execution_count": 9,
     "metadata": {},
     "output_type": "execute_result"
    }
   ],
   "source": [
    "np.hsplit(sp,2)"
   ]
  },
  {
   "cell_type": "code",
   "execution_count": 10,
   "metadata": {},
   "outputs": [
    {
     "data": {
      "text/plain": [
       "array([[ 0,  1,  2,  3,  4,  5],\n",
       "       [ 6,  7,  8,  9, 10, 11],\n",
       "       [12, 13, 14, 15, 16, 17],\n",
       "       [18, 19, 20, 21, 22, 23],\n",
       "       [24, 25, 26, 27, 28, 29],\n",
       "       [30, 31, 32, 33, 34, 35]])"
      ]
     },
     "execution_count": 10,
     "metadata": {},
     "output_type": "execute_result"
    }
   ],
   "source": [
    "sp"
   ]
  },
  {
   "cell_type": "code",
   "execution_count": 13,
   "metadata": {},
   "outputs": [
    {
     "data": {
      "text/plain": [
       "[array([[ 0,  1],\n",
       "        [ 6,  7],\n",
       "        [12, 13],\n",
       "        [18, 19],\n",
       "        [24, 25],\n",
       "        [30, 31]]), array([[ 2,  3],\n",
       "        [ 8,  9],\n",
       "        [14, 15],\n",
       "        [20, 21],\n",
       "        [26, 27],\n",
       "        [32, 33]]), array([[ 4,  5],\n",
       "        [10, 11],\n",
       "        [16, 17],\n",
       "        [22, 23],\n",
       "        [28, 29],\n",
       "        [34, 35]])]"
      ]
     },
     "execution_count": 13,
     "metadata": {},
     "output_type": "execute_result"
    }
   ],
   "source": [
    "w=np.hsplit(sp,3)\n",
    "w"
   ]
  },
  {
   "cell_type": "code",
   "execution_count": 16,
   "metadata": {},
   "outputs": [
    {
     "data": {
      "text/plain": [
       "(3, 6, 2)"
      ]
     },
     "execution_count": 16,
     "metadata": {},
     "output_type": "execute_result"
    }
   ],
   "source": [
    "np.shape(w)"
   ]
  },
  {
   "cell_type": "code",
   "execution_count": 17,
   "metadata": {},
   "outputs": [
    {
     "data": {
      "text/plain": [
       "(6, 6)"
      ]
     },
     "execution_count": 17,
     "metadata": {},
     "output_type": "execute_result"
    }
   ],
   "source": [
    "np.shape(sp)"
   ]
  },
  {
   "cell_type": "code",
   "execution_count": 21,
   "metadata": {},
   "outputs": [
    {
     "name": "stdout",
     "output_type": "stream",
     "text": [
      "[array([[ 0,  1,  2,  3,  4,  5],\n",
      "       [ 6,  7,  8,  9, 10, 11],\n",
      "       [12, 13, 14, 15, 16, 17],\n",
      "       [18, 19, 20, 21, 22, 23],\n",
      "       [24, 25, 26, 27, 28, 29],\n",
      "       [30, 31, 32, 33, 34, 35]])]\n",
      "(1, 6, 6)\n"
     ]
    }
   ],
   "source": [
    "y=np.hsplit(sp,1)\n",
    "print(y)\n",
    "print(np.shape(y))"
   ]
  },
  {
   "cell_type": "code",
   "execution_count": 22,
   "metadata": {},
   "outputs": [
    {
     "name": "stdout",
     "output_type": "stream",
     "text": [
      "[array([[ 0,  1,  2],\n",
      "       [ 6,  7,  8],\n",
      "       [12, 13, 14],\n",
      "       [18, 19, 20],\n",
      "       [24, 25, 26],\n",
      "       [30, 31, 32]]), array([[ 3,  4,  5],\n",
      "       [ 9, 10, 11],\n",
      "       [15, 16, 17],\n",
      "       [21, 22, 23],\n",
      "       [27, 28, 29],\n",
      "       [33, 34, 35]])]\n",
      "(2, 6, 3)\n"
     ]
    }
   ],
   "source": [
    "q=y=np.hsplit(sp,2)\n",
    "print(q)\n",
    "print(np.shape(q))"
   ]
  },
  {
   "cell_type": "code",
   "execution_count": 23,
   "metadata": {},
   "outputs": [
    {
     "name": "stdout",
     "output_type": "stream",
     "text": [
      "[array([[ 0,  1,  2,  3,  4,  5],\n",
      "       [ 6,  7,  8,  9, 10, 11],\n",
      "       [12, 13, 14, 15, 16, 17],\n",
      "       [18, 19, 20, 21, 22, 23],\n",
      "       [24, 25, 26, 27, 28, 29],\n",
      "       [30, 31, 32, 33, 34, 35]])]\n",
      "(1, 6, 6)\n"
     ]
    }
   ],
   "source": [
    "s=y=np.vsplit(sp,1)\n",
    "print(s)\n",
    "print(np.shape(s))"
   ]
  },
  {
   "cell_type": "code",
   "execution_count": 24,
   "metadata": {},
   "outputs": [
    {
     "name": "stdout",
     "output_type": "stream",
     "text": [
      "[array([[ 0,  1,  2,  3,  4,  5],\n",
      "       [ 6,  7,  8,  9, 10, 11],\n",
      "       [12, 13, 14, 15, 16, 17]]), array([[18, 19, 20, 21, 22, 23],\n",
      "       [24, 25, 26, 27, 28, 29],\n",
      "       [30, 31, 32, 33, 34, 35]])]\n",
      "(2, 3, 6)\n"
     ]
    }
   ],
   "source": [
    "t= np.vsplit(sp,2)\n",
    "print(t)\n",
    "print(np.shape(t))"
   ]
  },
  {
   "cell_type": "code",
   "execution_count": 25,
   "metadata": {},
   "outputs": [
    {
     "name": "stdout",
     "output_type": "stream",
     "text": [
      "[array([[ 0,  1,  2,  3,  4,  5],\n",
      "       [ 6,  7,  8,  9, 10, 11]]), array([[12, 13, 14, 15, 16, 17],\n",
      "       [18, 19, 20, 21, 22, 23]]), array([[24, 25, 26, 27, 28, 29],\n",
      "       [30, 31, 32, 33, 34, 35]])]\n",
      "(3, 2, 6)\n"
     ]
    }
   ],
   "source": [
    "u= np.vsplit(sp,3)\n",
    "print(u)\n",
    "print(np.shape(u))"
   ]
  },
  {
   "cell_type": "code",
   "execution_count": 28,
   "metadata": {},
   "outputs": [
    {
     "data": {
      "text/plain": [
       "[array([0., 1., 2., 3.]),\n",
       " array([4., 5.]),\n",
       " array([], dtype=float64),\n",
       " array([], dtype=float64),\n",
       " array([], dtype=float64)]"
      ]
     },
     "execution_count": 28,
     "metadata": {},
     "output_type": "execute_result"
    }
   ],
   "source": [
    "a = np.arange(6.0)\n",
    "np.split(a, [4, 6, 6, 7])"
   ]
  },
  {
   "cell_type": "code",
   "execution_count": 27,
   "metadata": {},
   "outputs": [
    {
     "data": {
      "text/plain": [
       "array([0., 1., 2., 3., 4., 5.])"
      ]
     },
     "execution_count": 27,
     "metadata": {},
     "output_type": "execute_result"
    }
   ],
   "source": [
    "a"
   ]
  },
  {
   "cell_type": "code",
   "execution_count": 31,
   "metadata": {},
   "outputs": [
    {
     "data": {
      "text/plain": [
       "[array([0., 1., 2., 3.]),\n",
       " array([4.]),\n",
       " array([5.]),\n",
       " array([6.]),\n",
       " array([], dtype=float64)]"
      ]
     },
     "execution_count": 31,
     "metadata": {},
     "output_type": "execute_result"
    }
   ],
   "source": [
    "a = np.arange(7.0)  #till 6 tk values lega\n",
    "np.split(a, [4, 5, 6, 7])"
   ]
  },
  {
   "cell_type": "code",
   "execution_count": 33,
   "metadata": {},
   "outputs": [
    {
     "data": {
      "text/plain": [
       "array([ 0,  1,  2,  3,  4,  5,  6,  7,  8,  9, 10, 11])"
      ]
     },
     "execution_count": 33,
     "metadata": {},
     "output_type": "execute_result"
    }
   ],
   "source": [
    "np.arange(12)"
   ]
  },
  {
   "cell_type": "code",
   "execution_count": null,
   "metadata": {},
   "outputs": [],
   "source": []
  }
 ],
 "metadata": {
  "kernelspec": {
   "display_name": "Python 3",
   "language": "python",
   "name": "python3"
  },
  "language_info": {
   "codemirror_mode": {
    "name": "ipython",
    "version": 3
   },
   "file_extension": ".py",
   "mimetype": "text/x-python",
   "name": "python",
   "nbconvert_exporter": "python",
   "pygments_lexer": "ipython3",
   "version": "3.7.3"
  }
 },
 "nbformat": 4,
 "nbformat_minor": 2
}
